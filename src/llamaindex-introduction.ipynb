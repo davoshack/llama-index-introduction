{
 "cells": [
  {
   "cell_type": "markdown",
   "metadata": {},
   "source": [
    "# LlamaIndex Introduction"
   ]
  },
  {
   "cell_type": "code",
   "execution_count": 6,
   "metadata": {},
   "outputs": [],
   "source": [
    "import os\n",
    "from llamaindex_custom_utils.helper import get_openai_api_key, get_deeplake_api_key, print_response\n",
    "OPENAI_API_KEY = get_openai_api_key()\n",
    "DEEPLAKE_API_KEY = get_deeplake_api_key()"
   ]
  },
  {
   "cell_type": "code",
   "execution_count": 7,
   "metadata": {},
   "outputs": [],
   "source": [
    "import logging\n",
    "import sys\n",
    "\n",
    "#You can set the logging level to DEBUG for more verbose output,\n",
    "# or use level=logging.INFO for less detailed information.\n",
    "logging.basicConfig(stream=sys.stdout, level=logging.DEBUG)\n",
    "logging.getLogger().addHandler(logging.StreamHandler(stream=sys.stdout))"
   ]
  },
  {
   "cell_type": "markdown",
   "metadata": {},
   "source": [
    "## LlamaHub Wikipedia Integration"
   ]
  },
  {
   "cell_type": "code",
   "execution_count": 8,
   "metadata": {},
   "outputs": [
    {
     "name": "stdout",
     "output_type": "stream",
     "text": [
      "DEBUG:urllib3.connectionpool:Starting new HTTPS connection (1): llamahub.ai:443\n",
      "Starting new HTTPS connection (1): llamahub.ai:443\n",
      "Starting new HTTPS connection (1): llamahub.ai:443\n",
      "DEBUG:urllib3.connectionpool:https://llamahub.ai:443 \"POST /api/analytics/downloads HTTP/1.1\" 200 63\n",
      "https://llamahub.ai:443 \"POST /api/analytics/downloads HTTP/1.1\" 200 63\n",
      "https://llamahub.ai:443 \"POST /api/analytics/downloads HTTP/1.1\" 200 63\n"
     ]
    }
   ],
   "source": [
    "from llama_index import download_loader\n",
    "\n",
    "WikipediaReader = download_loader(\"WikipediaReader\")\n",
    "\n",
    "loader = WikipediaReader()"
   ]
  },
  {
   "cell_type": "code",
   "execution_count": 9,
   "metadata": {},
   "outputs": [
    {
     "name": "stdout",
     "output_type": "stream",
     "text": [
      "DEBUG:urllib3.connectionpool:Starting new HTTP connection (1): en.wikipedia.org:80\n",
      "Starting new HTTP connection (1): en.wikipedia.org:80\n",
      "Starting new HTTP connection (1): en.wikipedia.org:80\n",
      "DEBUG:urllib3.connectionpool:http://en.wikipedia.org:80 \"GET /w/api.php?list=search&srprop=&srlimit=1&limit=1&srsearch=Natural+Language+Processing&srinfo=suggestion&format=json&action=query HTTP/1.1\" 301 0\n",
      "http://en.wikipedia.org:80 \"GET /w/api.php?list=search&srprop=&srlimit=1&limit=1&srsearch=Natural+Language+Processing&srinfo=suggestion&format=json&action=query HTTP/1.1\" 301 0\n",
      "http://en.wikipedia.org:80 \"GET /w/api.php?list=search&srprop=&srlimit=1&limit=1&srsearch=Natural+Language+Processing&srinfo=suggestion&format=json&action=query HTTP/1.1\" 301 0\n",
      "DEBUG:urllib3.connectionpool:Starting new HTTPS connection (1): en.wikipedia.org:443\n",
      "Starting new HTTPS connection (1): en.wikipedia.org:443\n",
      "Starting new HTTPS connection (1): en.wikipedia.org:443\n",
      "DEBUG:urllib3.connectionpool:https://en.wikipedia.org:443 \"GET /w/api.php?list=search&srprop=&srlimit=1&limit=1&srsearch=Natural+Language+Processing&srinfo=suggestion&format=json&action=query HTTP/1.1\" 200 174\n",
      "https://en.wikipedia.org:443 \"GET /w/api.php?list=search&srprop=&srlimit=1&limit=1&srsearch=Natural+Language+Processing&srinfo=suggestion&format=json&action=query HTTP/1.1\" 200 174\n",
      "https://en.wikipedia.org:443 \"GET /w/api.php?list=search&srprop=&srlimit=1&limit=1&srsearch=Natural+Language+Processing&srinfo=suggestion&format=json&action=query HTTP/1.1\" 200 174\n",
      "DEBUG:urllib3.connectionpool:Starting new HTTP connection (1): en.wikipedia.org:80\n",
      "Starting new HTTP connection (1): en.wikipedia.org:80\n",
      "Starting new HTTP connection (1): en.wikipedia.org:80\n",
      "DEBUG:urllib3.connectionpool:http://en.wikipedia.org:80 \"GET /w/api.php?prop=info%7Cpageprops&inprop=url&ppprop=disambiguation&redirects=&titles=Natural+language+processing&format=json&action=query HTTP/1.1\" 301 0\n",
      "http://en.wikipedia.org:80 \"GET /w/api.php?prop=info%7Cpageprops&inprop=url&ppprop=disambiguation&redirects=&titles=Natural+language+processing&format=json&action=query HTTP/1.1\" 301 0\n",
      "http://en.wikipedia.org:80 \"GET /w/api.php?prop=info%7Cpageprops&inprop=url&ppprop=disambiguation&redirects=&titles=Natural+language+processing&format=json&action=query HTTP/1.1\" 301 0\n",
      "DEBUG:urllib3.connectionpool:Starting new HTTPS connection (1): en.wikipedia.org:443\n",
      "Starting new HTTPS connection (1): en.wikipedia.org:443\n",
      "Starting new HTTPS connection (1): en.wikipedia.org:443\n",
      "DEBUG:urllib3.connectionpool:https://en.wikipedia.org:443 \"GET /w/api.php?prop=info%7Cpageprops&inprop=url&ppprop=disambiguation&redirects=&titles=Natural+language+processing&format=json&action=query HTTP/1.1\" 200 280\n",
      "https://en.wikipedia.org:443 \"GET /w/api.php?prop=info%7Cpageprops&inprop=url&ppprop=disambiguation&redirects=&titles=Natural+language+processing&format=json&action=query HTTP/1.1\" 200 280\n",
      "https://en.wikipedia.org:443 \"GET /w/api.php?prop=info%7Cpageprops&inprop=url&ppprop=disambiguation&redirects=&titles=Natural+language+processing&format=json&action=query HTTP/1.1\" 200 280\n",
      "DEBUG:urllib3.connectionpool:Starting new HTTP connection (1): en.wikipedia.org:80\n",
      "Starting new HTTP connection (1): en.wikipedia.org:80\n",
      "Starting new HTTP connection (1): en.wikipedia.org:80\n",
      "DEBUG:urllib3.connectionpool:http://en.wikipedia.org:80 \"GET /w/api.php?prop=extracts%7Crevisions&explaintext=&rvprop=ids&titles=Natural+language+processing&format=json&action=query HTTP/1.1\" 301 0\n",
      "http://en.wikipedia.org:80 \"GET /w/api.php?prop=extracts%7Crevisions&explaintext=&rvprop=ids&titles=Natural+language+processing&format=json&action=query HTTP/1.1\" 301 0\n",
      "http://en.wikipedia.org:80 \"GET /w/api.php?prop=extracts%7Crevisions&explaintext=&rvprop=ids&titles=Natural+language+processing&format=json&action=query HTTP/1.1\" 301 0\n",
      "DEBUG:urllib3.connectionpool:Starting new HTTPS connection (1): en.wikipedia.org:443\n",
      "Starting new HTTPS connection (1): en.wikipedia.org:443\n",
      "Starting new HTTPS connection (1): en.wikipedia.org:443\n",
      "DEBUG:urllib3.connectionpool:https://en.wikipedia.org:443 \"GET /w/api.php?prop=extracts%7Crevisions&explaintext=&rvprop=ids&titles=Natural+language+processing&format=json&action=query HTTP/1.1\" 200 None\n",
      "https://en.wikipedia.org:443 \"GET /w/api.php?prop=extracts%7Crevisions&explaintext=&rvprop=ids&titles=Natural+language+processing&format=json&action=query HTTP/1.1\" 200 None\n",
      "https://en.wikipedia.org:443 \"GET /w/api.php?prop=extracts%7Crevisions&explaintext=&rvprop=ids&titles=Natural+language+processing&format=json&action=query HTTP/1.1\" 200 None\n",
      "DEBUG:urllib3.connectionpool:Starting new HTTP connection (1): en.wikipedia.org:80\n",
      "Starting new HTTP connection (1): en.wikipedia.org:80\n",
      "Starting new HTTP connection (1): en.wikipedia.org:80\n",
      "DEBUG:urllib3.connectionpool:http://en.wikipedia.org:80 \"GET /w/api.php?list=search&srprop=&srlimit=1&limit=1&srsearch=Artificial+Intelligence&srinfo=suggestion&format=json&action=query HTTP/1.1\" 301 0\n",
      "http://en.wikipedia.org:80 \"GET /w/api.php?list=search&srprop=&srlimit=1&limit=1&srsearch=Artificial+Intelligence&srinfo=suggestion&format=json&action=query HTTP/1.1\" 301 0\n",
      "http://en.wikipedia.org:80 \"GET /w/api.php?list=search&srprop=&srlimit=1&limit=1&srsearch=Artificial+Intelligence&srinfo=suggestion&format=json&action=query HTTP/1.1\" 301 0\n",
      "DEBUG:urllib3.connectionpool:Starting new HTTPS connection (1): en.wikipedia.org:443\n",
      "Starting new HTTPS connection (1): en.wikipedia.org:443\n",
      "Starting new HTTPS connection (1): en.wikipedia.org:443\n",
      "DEBUG:urllib3.connectionpool:https://en.wikipedia.org:443 \"GET /w/api.php?list=search&srprop=&srlimit=1&limit=1&srsearch=Artificial+Intelligence&srinfo=suggestion&format=json&action=query HTTP/1.1\" 200 172\n",
      "https://en.wikipedia.org:443 \"GET /w/api.php?list=search&srprop=&srlimit=1&limit=1&srsearch=Artificial+Intelligence&srinfo=suggestion&format=json&action=query HTTP/1.1\" 200 172\n",
      "https://en.wikipedia.org:443 \"GET /w/api.php?list=search&srprop=&srlimit=1&limit=1&srsearch=Artificial+Intelligence&srinfo=suggestion&format=json&action=query HTTP/1.1\" 200 172\n",
      "DEBUG:urllib3.connectionpool:Starting new HTTP connection (1): en.wikipedia.org:80\n",
      "Starting new HTTP connection (1): en.wikipedia.org:80\n",
      "Starting new HTTP connection (1): en.wikipedia.org:80\n",
      "DEBUG:urllib3.connectionpool:http://en.wikipedia.org:80 \"GET /w/api.php?prop=info%7Cpageprops&inprop=url&ppprop=disambiguation&redirects=&titles=Artificial+intelligence&format=json&action=query HTTP/1.1\" 301 0\n",
      "http://en.wikipedia.org:80 \"GET /w/api.php?prop=info%7Cpageprops&inprop=url&ppprop=disambiguation&redirects=&titles=Artificial+intelligence&format=json&action=query HTTP/1.1\" 301 0\n",
      "http://en.wikipedia.org:80 \"GET /w/api.php?prop=info%7Cpageprops&inprop=url&ppprop=disambiguation&redirects=&titles=Artificial+intelligence&format=json&action=query HTTP/1.1\" 301 0\n",
      "DEBUG:urllib3.connectionpool:Starting new HTTPS connection (1): en.wikipedia.org:443\n",
      "Starting new HTTPS connection (1): en.wikipedia.org:443\n",
      "Starting new HTTPS connection (1): en.wikipedia.org:443\n",
      "DEBUG:urllib3.connectionpool:https://en.wikipedia.org:443 \"GET /w/api.php?prop=info%7Cpageprops&inprop=url&ppprop=disambiguation&redirects=&titles=Artificial+intelligence&format=json&action=query HTTP/1.1\" 200 275\n",
      "https://en.wikipedia.org:443 \"GET /w/api.php?prop=info%7Cpageprops&inprop=url&ppprop=disambiguation&redirects=&titles=Artificial+intelligence&format=json&action=query HTTP/1.1\" 200 275\n",
      "https://en.wikipedia.org:443 \"GET /w/api.php?prop=info%7Cpageprops&inprop=url&ppprop=disambiguation&redirects=&titles=Artificial+intelligence&format=json&action=query HTTP/1.1\" 200 275\n",
      "DEBUG:urllib3.connectionpool:Starting new HTTP connection (1): en.wikipedia.org:80\n",
      "Starting new HTTP connection (1): en.wikipedia.org:80\n",
      "Starting new HTTP connection (1): en.wikipedia.org:80\n",
      "DEBUG:urllib3.connectionpool:http://en.wikipedia.org:80 \"GET /w/api.php?prop=extracts%7Crevisions&explaintext=&rvprop=ids&titles=Artificial+intelligence&format=json&action=query HTTP/1.1\" 301 0\n",
      "http://en.wikipedia.org:80 \"GET /w/api.php?prop=extracts%7Crevisions&explaintext=&rvprop=ids&titles=Artificial+intelligence&format=json&action=query HTTP/1.1\" 301 0\n",
      "http://en.wikipedia.org:80 \"GET /w/api.php?prop=extracts%7Crevisions&explaintext=&rvprop=ids&titles=Artificial+intelligence&format=json&action=query HTTP/1.1\" 301 0\n",
      "DEBUG:urllib3.connectionpool:Starting new HTTPS connection (1): en.wikipedia.org:443\n",
      "Starting new HTTPS connection (1): en.wikipedia.org:443\n",
      "Starting new HTTPS connection (1): en.wikipedia.org:443\n",
      "DEBUG:urllib3.connectionpool:https://en.wikipedia.org:443 \"GET /w/api.php?prop=extracts%7Crevisions&explaintext=&rvprop=ids&titles=Artificial+intelligence&format=json&action=query HTTP/1.1\" 200 None\n",
      "https://en.wikipedia.org:443 \"GET /w/api.php?prop=extracts%7Crevisions&explaintext=&rvprop=ids&titles=Artificial+intelligence&format=json&action=query HTTP/1.1\" 200 None\n",
      "https://en.wikipedia.org:443 \"GET /w/api.php?prop=extracts%7Crevisions&explaintext=&rvprop=ids&titles=Artificial+intelligence&format=json&action=query HTTP/1.1\" 200 None\n"
     ]
    }
   ],
   "source": [
    "documents = loader.load_data(pages=['Natural Language Processing', 'Artificial Intelligence'])"
   ]
  },
  {
   "cell_type": "code",
   "execution_count": 10,
   "metadata": {},
   "outputs": [
    {
     "data": {
      "text/plain": [
       "2"
      ]
     },
     "execution_count": 10,
     "metadata": {},
     "output_type": "execute_result"
    }
   ],
   "source": [
    "len( documents )"
   ]
  }
 ],
 "metadata": {
  "kernelspec": {
   "display_name": "llamaindex-introduction",
   "language": "python",
   "name": "python3"
  },
  "language_info": {
   "codemirror_mode": {
    "name": "ipython",
    "version": 3
   },
   "file_extension": ".py",
   "mimetype": "text/x-python",
   "name": "python",
   "nbconvert_exporter": "python",
   "pygments_lexer": "ipython3",
   "version": "3.12.0"
  }
 },
 "nbformat": 4,
 "nbformat_minor": 2
}
